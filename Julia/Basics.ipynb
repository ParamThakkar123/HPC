{
 "cells": [
  {
   "cell_type": "markdown",
   "metadata": {},
   "source": [
    "## Checking installation and version"
   ]
  },
  {
   "cell_type": "code",
   "execution_count": 1,
   "metadata": {},
   "outputs": [],
   "source": [
    "using CUDA"
   ]
  },
  {
   "cell_type": "code",
   "execution_count": 3,
   "metadata": {},
   "outputs": [
    {
     "name": "stdout",
     "output_type": "stream",
     "text": [
      "CUDA runtime 12.6, artifact installation\n",
      "CUDA driver 12.5\n",
      "NVIDIA driver 556.13.0\n",
      "\n",
      "CUDA libraries: \n",
      "- CUBLAS: 12.6.3\n",
      "- CURAND: 10.3.7\n",
      "- CUFFT: 11.3.0\n",
      "- CUSOLVER: 11.7.1\n",
      "- CUSPARSE: 12.5.4\n",
      "- CUPTI: 2024.3.2 (API 24.0.0)\n",
      "- NVML: 12.0.0+556.13\n",
      "\n",
      "Julia packages: \n",
      "- CUDA: 5.5.2\n",
      "- CUDA_Driver_jll: 0.10.3+0\n",
      "- CUDA_Runtime_jll: 0.15.3+0\n",
      "\n",
      "Toolchain:\n",
      "- Julia: 1.11.1\n",
      "- LLVM: 16.0.6\n",
      "\n",
      "1 device:\n",
      "  0: NVIDIA GeForce RTX 3050 Laptop GPU (sm_86, 3.871 GiB / 4.000 GiB available)\n"
     ]
    }
   ],
   "source": [
    "CUDA.versioninfo()"
   ]
  },
  {
   "cell_type": "markdown",
   "metadata": {},
   "source": [
    "### Array Programming"
   ]
  },
  {
   "cell_type": "code",
   "execution_count": 4,
   "metadata": {},
   "outputs": [
    {
     "data": {
      "text/plain": [
       "4-element CuArray{Int64, 1, CUDA.DeviceMemory}:\n",
       " 1\n",
       " 2\n",
       " 3\n",
       " 4"
      ]
     },
     "metadata": {},
     "output_type": "display_data"
    }
   ],
   "source": [
    "a = CuArray([1, 2, 3, 4])"
   ]
  },
  {
   "cell_type": "code",
   "execution_count": 5,
   "metadata": {},
   "outputs": [
    {
     "data": {
      "text/plain": [
       "4-element CuArray{Int64, 1, CUDA.DeviceMemory}:\n",
       " 2\n",
       " 3\n",
       " 4\n",
       " 5"
      ]
     },
     "metadata": {},
     "output_type": "display_data"
    }
   ],
   "source": [
    "a .+= 1"
   ]
  },
  {
   "cell_type": "markdown",
   "metadata": {},
   "source": [
    "These two operations demonstrate the different tasks that CuArray has:\n",
    "\n",
    "\n",
    "    1. a container for storing GPU data and managing its lifetime\n",
    "    2. a abstraction for executing parallel operations on the GPU"
   ]
  },
  {
   "cell_type": "markdown",
   "metadata": {},
   "source": [
    "### Scalar Indexing"
   ]
  },
  {
   "cell_type": "code",
   "execution_count": null,
   "metadata": {},
   "outputs": [],
   "source": []
  }
 ],
 "metadata": {
  "kernelspec": {
   "display_name": "Julia 1.11.1",
   "language": "julia",
   "name": "julia-1.11"
  },
  "language_info": {
   "file_extension": ".jl",
   "mimetype": "application/julia",
   "name": "julia",
   "version": "1.11.1"
  }
 },
 "nbformat": 4,
 "nbformat_minor": 2
}
